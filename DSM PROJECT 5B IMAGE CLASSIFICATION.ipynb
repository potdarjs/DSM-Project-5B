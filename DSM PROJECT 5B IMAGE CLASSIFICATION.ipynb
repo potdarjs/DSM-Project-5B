{
  "nbformat": 4,
  "nbformat_minor": 0,
  "metadata": {
    "colab": {
      "name": "DSM PROJECT 5B IMAGE CLASSIFICATION",
      "version": "0.3.2",
      "provenance": [],
      "collapsed_sections": []
    },
    "kernelspec": {
      "display_name": "Python 3",
      "language": "python",
      "name": "python3"
    }
  },
  "cells": [
    {
      "metadata": {
        "id": "at2IXahnXePN",
        "colab_type": "text"
      },
      "cell_type": "markdown",
      "source": [
        "# DATA SCIENCE MASTERS - PROJECT 5B"
      ]
    },
    {
      "metadata": {
        "id": "3cIj5cGqWESm",
        "colab_type": "text"
      },
      "cell_type": "markdown",
      "source": [
        "# Image Classification\n",
        "Problem Statement - In this project, you'll classify images from the [CIFAR-10 dataset](https://www.cs.toronto.edu/~kriz/cifar.html).  The dataset consists of airplanes, dogs, cats, and other objects. You'll preprocess the images, then train a convolutional neural network on all the samples. The images need to be normalized and the labels need to be one-hot encoded.  You'll get to apply what you learned and build a convolutional, max pooling, dropout, and fully connected layers.  At the end, you'll get to see your neural network's predictions on the sample images.\n",
        "## Get the Data\n",
        "Run the following cell to download the [CIFAR-10 dataset for python](https://www.cs.toronto.edu/~kriz/cifar-10-python.tar.gz).\n",
        "\n",
        "## Data\n",
        "CIFAR-10  is an established computer-vision dataset used for object recognition. It is a subset of the 80 million tiny images dataset and consists of 60,000 32x32 color images containing one of 10 object classes, with 6000 images per class. It was collected by Alex Krizhevsky, Vinod Nair, and Geoffrey Hinton."
      ]
    },
    {
      "metadata": {
        "id": "ebS_hsmQWESp",
        "colab_type": "text"
      },
      "cell_type": "markdown",
      "source": [
        "Let's get the data by running the following function"
      ]
    },
    {
      "metadata": {
        "id": "9v86s-nuWESr",
        "colab_type": "code",
        "colab": {
          "base_uri": "https://localhost:8080/",
          "height": 34
        },
        "outputId": "aefaeace-2224-4476-e0a0-11b234d22c9f"
      },
      "cell_type": "code",
      "source": [
        "from urllib.request import urlretrieve\n",
        "from os.path import isfile, isdir\n",
        "from tqdm import tqdm\n",
        "import tarfile\n",
        "\n",
        "cifar10_dataset_folder_path = 'cifar-10-batches-py'\n",
        "\n",
        "class DLProgress(tqdm):\n",
        "    last_block = 0\n",
        "\n",
        "    def hook(self, block_num=1, block_size=1, total_size=None):\n",
        "        self.total = total_size\n",
        "        self.update((block_num - self.last_block) * block_size)\n",
        "        self.last_block = block_num\n",
        "\n",
        "if not isfile('cifar-10-python.tar.gz'):\n",
        "    with DLProgress(unit='B', unit_scale=True, miniters=1, desc='CIFAR-10 Dataset') as pbar:\n",
        "        urlretrieve(\n",
        "            'https://www.cs.toronto.edu/~kriz/cifar-10-python.tar.gz',\n",
        "            'cifar-10-python.tar.gz',\n",
        "            pbar.hook)\n",
        "\n",
        "if not isdir(cifar10_dataset_folder_path):\n",
        "    with tarfile.open('cifar-10-python.tar.gz') as tar:\n",
        "        tar.extractall()\n",
        "        tar.close()\n"
      ],
      "execution_count": 1,
      "outputs": [
        {
          "output_type": "stream",
          "text": [
            "CIFAR-10 Dataset: 171MB [00:29, 5.77MB/s]                           \n"
          ],
          "name": "stderr"
        }
      ]
    },
    {
      "metadata": {
        "id": "RiAOFVcYWESz",
        "colab_type": "text"
      },
      "cell_type": "markdown",
      "source": [
        "## Explore the Data\n",
        "The dataset is broken into batches to prevent your machine from running out of memory.  The CIFAR-10 dataset consists of 5 batches, named `data_batch_1`, `data_batch_2`, etc.. Each batch contains the labels and images that are one of the following:\n",
        "* airplane\n",
        "* automobile\n",
        "* bird\n",
        "* cat\n",
        "* deer\n",
        "* dog\n",
        "* frog\n",
        "* horse\n",
        "* ship\n",
        "* truck\n",
        "\n",
        "Understanding a dataset is part of making predictions on the data.  Play around with the code cell below by changing the `batch_id` and `sample_id`. The `batch_id` is the id for a batch (1-5). The `sample_id` is the id for a image and label pair in the batch.\n",
        "\n",
        "Ask yourself \"What are all possible labels?\", \"What is the range of values for the image data?\", \"Are the labels in order or random?\".  Answers to questions like these will help you preprocess the data and end up with better predictions."
      ]
    },
    {
      "metadata": {
        "id": "d-SPgrMAWES0",
        "colab_type": "text"
      },
      "cell_type": "markdown",
      "source": [
        "## The following are some helper functions students can use in their code"
      ]
    },
    {
      "metadata": {
        "id": "ljtECP6SWES3",
        "colab_type": "code",
        "colab": {}
      },
      "cell_type": "code",
      "source": [
        "import pickle\n",
        "import numpy as np\n",
        "import matplotlib.pyplot as plt\n",
        "from sklearn.preprocessing import LabelBinarizer\n",
        "\n",
        "\n",
        "def _load_label_names():\n",
        "    \"\"\"\n",
        "    Load the label names from file\n",
        "    \"\"\"\n",
        "    return ['airplane', 'automobile', 'bird', 'cat', 'deer', 'dog', 'frog', 'horse', 'ship', 'truck']\n",
        "\n",
        "\n",
        "def load_cfar10_batch(cifar10_dataset_folder_path, batch_id):\n",
        "    \"\"\"\n",
        "    Load a batch of the dataset\n",
        "    \"\"\"\n",
        "    with open(cifar10_dataset_folder_path + '/data_batch_' + str(batch_id), mode='rb') as file:\n",
        "        batch = pickle.load(file, encoding='latin1')\n",
        "\n",
        "    # total_features*RGB*H*W\n",
        "    features = batch['data'].reshape((len(batch['data']), 3, 32, 32)).transpose(0, 2, 3, 1) #(len, 32, 32, 3)\n",
        "    labels = batch['labels']\n",
        "    \n",
        "#     print(batch['data'])\n",
        "#     print(\"-\"*80)\n",
        "#     print(batch['data'].reshape((len(batch['data']), 3, 32, 32)))\n",
        "#     print(\"-\"*80)\n",
        "#     print(features)\n",
        "#     print(\"-\"*80)\n",
        "#     print(labels)\n",
        "\n",
        "    return features, labels\n",
        "\n",
        "\n",
        "def display_stats(cifar10_dataset_folder_path, batch_id, sample_id):\n",
        "    \"\"\"\n",
        "    Display Stats of the the dataset\n",
        "    \"\"\"\n",
        "    batch_ids = list(range(1, 6))\n",
        "\n",
        "    if batch_id not in batch_ids:\n",
        "        print('Batch Id out of Range. Possible Batch Ids: {}'.format(batch_ids))\n",
        "        return None\n",
        "\n",
        "    features, labels = load_cfar10_batch(cifar10_dataset_folder_path, batch_id)\n",
        "\n",
        "    if not (0 <= sample_id < len(features)):\n",
        "        print('{} samples in batch {}.  {} is out of range.'.format(len(features), batch_id, sample_id))\n",
        "        return None\n",
        "\n",
        "    print('\\nStats of batch {}:'.format(batch_id))\n",
        "    print('Samples: {}'.format(len(features)))\n",
        "    print('Label Counts: {}'.format(dict(zip(*np.unique(labels, return_counts=True)))))\n",
        "    print('First 20 Labels: {}'.format(labels[:20]))\n",
        "\n",
        "    sample_image = features[sample_id]\n",
        "    sample_label = labels[sample_id]\n",
        "    label_names = _load_label_names()\n",
        "\n",
        "    print('\\nExample of Image {}:'.format(sample_id))\n",
        "    print('Image - Min Value: {} Max Value: {}'.format(sample_image.min(), sample_image.max()))\n",
        "    print('Image - Shape: {}'.format(sample_image.shape))\n",
        "    print('Label - Label Id: {} Name: {}'.format(sample_label, label_names[sample_label]))\n",
        "    plt.axis('off')\n",
        "    plt.imshow(sample_image)\n",
        "\n",
        "\n",
        "def _preprocess_and_save(normalize, one_hot_encode, features, labels, filename):\n",
        "    \"\"\"\n",
        "    Preprocess data and save it to file\n",
        "    \"\"\"\n",
        "    features = normalize(features)\n",
        "    labels = one_hot_encode(labels)\n",
        "\n",
        "    pickle.dump((features, labels), open(filename, 'wb'))\n",
        "\n",
        "\n",
        "def preprocess_and_save_data(cifar10_dataset_folder_path, normalize, one_hot_encode):\n",
        "    \"\"\"\n",
        "    Preprocess Training and Validation Data\n",
        "    \"\"\"\n",
        "    n_batches = 5\n",
        "    valid_features = []\n",
        "    valid_labels = []\n",
        "\n",
        "    for batch_i in range(1, n_batches + 1):\n",
        "        features, labels = load_cfar10_batch(cifar10_dataset_folder_path, batch_i)\n",
        "        validation_count = int(len(features) * 0.1) #10%\n",
        "\n",
        "        # Prprocess and save a batch of training data\n",
        "        _preprocess_and_save(\n",
        "            normalize,\n",
        "            one_hot_encode,\n",
        "            features[:-validation_count],\n",
        "            labels[:-validation_count],\n",
        "            'preprocess_batch_' + str(batch_i) + '.p')\n",
        "\n",
        "        # Use a portion of training batch for validation\n",
        "        valid_features.extend(features[-validation_count:])\n",
        "        valid_labels.extend(labels[-validation_count:])\n",
        "\n",
        "    # Preprocess and Save all validation data\n",
        "    _preprocess_and_save(\n",
        "        normalize,\n",
        "        one_hot_encode,\n",
        "        np.array(valid_features),\n",
        "        np.array(valid_labels),\n",
        "        'preprocess_validation.p')\n",
        "\n",
        "    with open(cifar10_dataset_folder_path + '/test_batch', mode='rb') as file:\n",
        "        batch = pickle.load(file, encoding='latin1')\n",
        "\n",
        "    # load the test data\n",
        "    test_features = batch['data'].reshape((len(batch['data']), 3, 32, 32)).transpose(0, 2, 3, 1)\n",
        "    test_labels = batch['labels']\n",
        "\n",
        "    # Preprocess and Save all test data\n",
        "    _preprocess_and_save(\n",
        "        normalize,\n",
        "        one_hot_encode,\n",
        "        np.array(test_features),\n",
        "        np.array(test_labels),\n",
        "        'preprocess_testing.p')\n",
        "\n",
        "\n",
        "def batch_features_labels(features, labels, batch_size):\n",
        "    \"\"\"\n",
        "    Split features and labels into batches\n",
        "    \"\"\"\n",
        "    for start in range(0, len(features), batch_size):\n",
        "        end = min(start + batch_size, len(features))\n",
        "        yield features[start:end], labels[start:end]\n",
        "\n",
        "\n",
        "def load_preprocess_training_batch(batch_id, batch_size):\n",
        "    \"\"\"\n",
        "    Load the Preprocessed Training data and return them in batches of <batch_size> or less\n",
        "    \"\"\"\n",
        "    filename = 'preprocess_batch_' + str(batch_id) + '.p'\n",
        "    features, labels = pickle.load(open(filename, mode='rb'))\n",
        "\n",
        "    # Return the training data in batches of size <batch_size> or less\n",
        "    return batch_features_labels(features, labels, batch_size)\n",
        "\n",
        "\n",
        "def display_image_predictions(features, labels, predictions):\n",
        "    n_classes = 10\n",
        "    label_names = _load_label_names()\n",
        "    label_binarizer = LabelBinarizer()\n",
        "    label_binarizer.fit(range(n_classes))\n",
        "    label_ids = label_binarizer.inverse_transform(np.array(labels))\n",
        "\n",
        "    fig, axies = plt.subplots(nrows=4, ncols=2)\n",
        "    fig.tight_layout()\n",
        "    fig.suptitle('Softmax Predictions', fontsize=20, y=1.1)\n",
        "\n",
        "    n_predictions = 5\n",
        "    margin = 0.05\n",
        "    ind = np.arange(n_predictions)\n",
        "    width = (1. - 2. * margin) / n_predictions\n",
        "\n",
        "    for image_i, (feature, label_id, pred_indicies, pred_values) in enumerate(zip(features, label_ids, predictions.indices, predictions.values)):\n",
        "        pred_names = [label_names[pred_i] for pred_i in pred_indicies]\n",
        "        correct_name = label_names[label_id]\n",
        "\n",
        "        axies[image_i][0].imshow(feature*255)\n",
        "        axies[image_i][0].set_title(correct_name)\n",
        "        axies[image_i][0].set_axis_off()\n",
        "\n",
        "        axies[image_i][1].barh(ind + margin, pred_values[::-1], width)\n",
        "        axies[image_i][1].set_yticks(ind + margin)\n",
        "        axies[image_i][1].set_yticklabels(pred_names[::-1])\n",
        "        axies[image_i][1].set_xticks([0, 0.5, 1.0])\n"
      ],
      "execution_count": 0,
      "outputs": []
    },
    {
      "metadata": {
        "scrolled": false,
        "id": "5-rgfRp9WES8",
        "colab_type": "code",
        "colab": {
          "base_uri": "https://localhost:8080/",
          "height": 433
        },
        "outputId": "f8c4ebbe-f092-4403-a9dc-6130eaecf1ba"
      },
      "cell_type": "code",
      "source": [
        "%matplotlib inline\n",
        "%config InlineBackend.figure_format = 'retina'\n",
        "\n",
        "import numpy as np\n",
        "\n",
        "# Explore the dataset\n",
        "batch_id = 3 #1-5\n",
        "sample_id = 5 #1-10,000\n",
        "display_stats(cifar10_dataset_folder_path, batch_id, sample_id)"
      ],
      "execution_count": 4,
      "outputs": [
        {
          "output_type": "stream",
          "text": [
            "\n",
            "Stats of batch 3:\n",
            "Samples: 10000\n",
            "Label Counts: {0: 994, 1: 1042, 2: 965, 3: 997, 4: 990, 5: 1029, 6: 978, 7: 1015, 8: 961, 9: 1029}\n",
            "First 20 Labels: [8, 5, 0, 6, 9, 2, 8, 3, 6, 2, 7, 4, 6, 9, 0, 0, 7, 3, 7, 2]\n",
            "\n",
            "Example of Image 5:\n",
            "Image - Min Value: 9 Max Value: 255\n",
            "Image - Shape: (32, 32, 3)\n",
            "Label - Label Id: 2 Name: bird\n"
          ],
          "name": "stdout"
        },
        {
          "output_type": "display_data",
          "data": {
            "image/png": "[encoded data removed]",
            "text/plain": [
              "<Figure size 432x288 with 1 Axes>"
            ]
          },
          "metadata": {
            "tags": [],
            "image/png": {
              "width": 249,
              "height": 248
            }
          }
        }
      ]
    },
    {
      "metadata": {
        "id": "v--uYtmNWETD",
        "colab_type": "text"
      },
      "cell_type": "markdown",
      "source": [
        "# Solution "
      ]
    },
    {
      "metadata": {
        "id": "JYg5FunDWETD",
        "colab_type": "text"
      },
      "cell_type": "markdown",
      "source": [
        "## Implement Preprocess Functions\n",
        "### Normalize\n",
        "In the cell below, implement the `normalize` function to take in image data, `x`, and return it as a normalized Numpy array. The values should be in the range of 0 to 1, inclusive.  The return object should be the same shape as `x`."
      ]
    },
    {
      "metadata": {
        "id": "pzPBvB81WETF",
        "colab_type": "code",
        "colab": {}
      },
      "cell_type": "code",
      "source": [
        "import numpy as np\n",
        "def normalize(x):\n",
        "    \"\"\"\n",
        "    Normalize a list of sample image data in the range of 0 to 1\n",
        "    : x: List of image data.  The image shape is (32, 32, 3)\n",
        "    : return: Numpy array of normalize data\n",
        "    \"\"\"\n",
        "    x = np.array(x)\n",
        "    x_max = np.max(x)\n",
        "    x_min = np.min(x)\n",
        "    output = (x - x_min)/(x_max - x_min)\n",
        "    return output\n"
      ],
      "execution_count": 0,
      "outputs": []
    },
    {
      "metadata": {
        "id": "tXtXqaBpWETH",
        "colab_type": "text"
      },
      "cell_type": "markdown",
      "source": [
        "### One-hot encode\n",
        "We'll implement the `one_hot_encode` function. The input, `x`, are a list of labels.  Implement the function to return the list of labels as One-Hot encoded Numpy array.  The possible values for labels are 0 to 9. The one-hot encoding function should return the same encoding for each value between each call to `one_hot_encode`.  Make sure to save the map of encodings outside the function.\n"
      ]
    },
    {
      "metadata": {
        "id": "DzaVKIJaWETI",
        "colab_type": "code",
        "colab": {}
      },
      "cell_type": "code",
      "source": [
        "from sklearn import preprocessing\n",
        "lb = preprocessing.LabelBinarizer()\n",
        "lb.fit(range(10))\n",
        "\n",
        "\n",
        "def one_hot_encode(x):\n",
        "    \"\"\"\n",
        "    One hot encode a list of sample labels. Return a one-hot encoded vector for each label.\n",
        "    : x: List of sample Labels\n",
        "    : return: Numpy array of one-hot encoded labels\n",
        "    \"\"\"\n",
        "    #print(lb.transform(x))\n",
        "    return lb.transform(x) #0-9\n"
      ],
      "execution_count": 0,
      "outputs": []
    },
    {
      "metadata": {
        "id": "DNOIcSO7WETM",
        "colab_type": "text"
      },
      "cell_type": "markdown",
      "source": [
        "### Randomize Data\n",
        "As you saw from exploring the data above, the order of the samples are randomized.  It doesn't hurt to randomize it again, but you don't need to for this dataset."
      ]
    },
    {
      "metadata": {
        "id": "OkhPItSgWETN",
        "colab_type": "text"
      },
      "cell_type": "markdown",
      "source": [
        "## Preprocess all the data and save it\n",
        "Running the code cell below will preprocess all the CIFAR-10 data and save it to file. The code below also uses 10% of the training data for validation."
      ]
    },
    {
      "metadata": {
        "id": "yzlqYsPAWETP",
        "colab_type": "code",
        "colab": {}
      },
      "cell_type": "code",
      "source": [
        "preprocess_and_save_data(cifar10_dataset_folder_path, normalize, one_hot_encode)"
      ],
      "execution_count": 0,
      "outputs": []
    },
    {
      "metadata": {
        "id": "CL6-vOKnWETS",
        "colab_type": "code",
        "colab": {}
      },
      "cell_type": "code",
      "source": [
        "\n",
        "valid_features, valid_labels = pickle.load(open('preprocess_validation.p', mode='rb'))"
      ],
      "execution_count": 0,
      "outputs": []
    },
    {
      "metadata": {
        "collapsed": true,
        "id": "H8KlsNeRWETV",
        "colab_type": "code",
        "colab": {
          "base_uri": "https://localhost:8080/",
          "height": 857
        },
        "outputId": "72518260-954d-4fd2-95c4-2d681045432e"
      },
      "cell_type": "code",
      "source": [
        "valid_features[0], valid_labels[0]"
      ],
      "execution_count": 9,
      "outputs": [
        {
          "output_type": "execute_result",
          "data": {
            "text/plain": [
              "(array([[[0.54901961, 0.49019608, 0.45098039],\n",
              "         [0.57254902, 0.50980392, 0.47843137],\n",
              "         [0.56078431, 0.49803922, 0.47843137],\n",
              "         ...,\n",
              "         [0.66666667, 0.56862745, 0.51372549],\n",
              "         [0.69019608, 0.58823529, 0.5254902 ],\n",
              "         [0.66666667, 0.57647059, 0.52156863]],\n",
              " \n",
              "        [[0.4745098 , 0.42352941, 0.50588235],\n",
              "         [0.50980392, 0.4627451 , 0.54509804],\n",
              "         [0.5254902 , 0.4745098 , 0.56078431],\n",
              "         ...,\n",
              "         [0.63921569, 0.55294118, 0.61568627],\n",
              "         [0.66666667, 0.57254902, 0.63137255],\n",
              "         [0.66666667, 0.58039216, 0.63137255]],\n",
              " \n",
              "        [[0.59607843, 0.54509804, 0.68235294],\n",
              "         [0.61568627, 0.56862745, 0.70196078],\n",
              "         [0.60784314, 0.56078431, 0.68627451],\n",
              "         ...,\n",
              "         [0.69411765, 0.60392157, 0.75686275],\n",
              "         [0.70980392, 0.61176471, 0.76078431],\n",
              "         [0.71764706, 0.62745098, 0.76078431]],\n",
              " \n",
              "        ...,\n",
              " \n",
              "        [[0.49019608, 0.43137255, 0.4       ],\n",
              "         [0.50588235, 0.43921569, 0.40392157],\n",
              "         [0.29803922, 0.2627451 , 0.18431373],\n",
              "         ...,\n",
              "         [0.65882353, 0.5372549 , 0.47058824],\n",
              "         [0.61960784, 0.49411765, 0.40392157],\n",
              "         [0.57254902, 0.45490196, 0.34117647]],\n",
              " \n",
              "        [[0.33333333, 0.30196078, 0.2745098 ],\n",
              "         [0.36862745, 0.31764706, 0.27843137],\n",
              "         [0.29019608, 0.25490196, 0.17647059],\n",
              "         ...,\n",
              "         [0.63529412, 0.51764706, 0.41568627],\n",
              "         [0.65098039, 0.5254902 , 0.39215686],\n",
              "         [0.61960784, 0.50196078, 0.36078431]],\n",
              " \n",
              "        [[0.49019608, 0.43921569, 0.43529412],\n",
              "         [0.50980392, 0.44313725, 0.43529412],\n",
              "         [0.41176471, 0.35686275, 0.29411765],\n",
              "         ...,\n",
              "         [0.51764706, 0.41568627, 0.30588235],\n",
              "         [0.50980392, 0.39607843, 0.25098039],\n",
              "         [0.55686275, 0.45098039, 0.30588235]]]),\n",
              " array([0, 0, 0, 0, 1, 0, 0, 0, 0, 0]))"
            ]
          },
          "metadata": {
            "tags": []
          },
          "execution_count": 9
        }
      ]
    },
    {
      "metadata": {
        "id": "ohu2wSUNWETZ",
        "colab_type": "text"
      },
      "cell_type": "markdown",
      "source": [
        "## Build the network\n",
        "\n",
        "### Input\n",
        "The neural network needs to read the image data, one-hot encoded labels, and dropout keep probability. Implement the following functions\n",
        "* Implement `neural_net_image_input`\n",
        " * Return a [TF Placeholder](https://www.tensorflow.org/api_docs/python/tf/placeholder)\n",
        " * Set the shape using `image_shape` with batch size set to `None`.\n",
        " * Name the TensorFlow placeholder \"x\" using the TensorFlow `name` parameter in the [TF Placeholder](https://www.tensorflow.org/api_docs/python/tf/placeholder).\n",
        "* Implement `neural_net_label_input`\n",
        " * Return a [TF Placeholder](https://www.tensorflow.org/api_docs/python/tf/placeholder)\n",
        " * Set the shape using `n_classes` with batch size set to `None`.\n",
        " * Name the TensorFlow placeholder \"y\" using the TensorFlow `name` parameter in the [TF Placeholder](https://www.tensorflow.org/api_docs/python/tf/placeholder).\n",
        "* Implement `neural_net_keep_prob_input`\n",
        " * Return a [TF Placeholder](https://www.tensorflow.org/api_docs/python/tf/placeholder) for dropout keep probability.\n",
        " * Name the TensorFlow placeholder \"keep_prob\" using the TensorFlow `name` parameter in the [TF Placeholder](https://www.tensorflow.org/api_docs/python/tf/placeholder).\n",
        "\n",
        "These names will be used at the end of the project to load your saved model.\n",
        "\n",
        "Note: `None` for shapes in TensorFlow allow for a dynamic size."
      ]
    },
    {
      "metadata": {
        "id": "aQskl6OZWETa",
        "colab_type": "code",
        "colab": {}
      },
      "cell_type": "code",
      "source": [
        "import tensorflow as tf\n",
        "\n",
        "def neural_net_image_input(image_shape):\n",
        "    \"\"\"\n",
        "    Return a Tensor for a bach of image input\n",
        "    : image_shape: Shape of the images\n",
        "    : return: Tensor for image input.\n",
        "    \"\"\"\n",
        "    return tf.placeholder(tf.float32, shape = (None, image_shape[0], image_shape[1], image_shape[2]), name = 'x')\n",
        "\n",
        "\n",
        "def neural_net_label_input(n_classes):\n",
        "    \"\"\"\n",
        "    Return a Tensor for a batch of label input\n",
        "    : n_classes: Number of classes\n",
        "    : return: Tensor for label input.\n",
        "    \"\"\"\n",
        "    return tf.placeholder(tf.float32, shape = (None, n_classes), name = 'y')\n",
        "\n",
        "\n",
        "def neural_net_keep_prob_input():\n",
        "    \"\"\"\n",
        "    Return a Tensor for keep probability\n",
        "    : return: Tensor for keep probability.\n",
        "    \"\"\"\n",
        "    return tf.placeholder(tf.float32, shape = (None), name = 'keep_prob')\n",
        "\n",
        "\n",
        "tf.reset_default_graph()\n"
      ],
      "execution_count": 0,
      "outputs": []
    },
    {
      "metadata": {
        "id": "T8adxi-mWETd",
        "colab_type": "text"
      },
      "cell_type": "markdown",
      "source": [
        "### Convolution and Max Pooling Layer\n",
        "Convolution layers have a lot of success with images. For this code cell, you should implement the function `conv2d_maxpool` to apply convolution then max pooling:\n",
        "* Create the weight and bias using `conv_ksize`, `conv_num_outputs` and the shape of `x_tensor`.\n",
        "* Apply a convolution to `x_tensor` using weight and `conv_strides`.\n",
        " * We recommend you use same padding, but you're welcome to use any padding.\n",
        "* Add bias\n",
        "* Add a nonlinear activation to the convolution.\n",
        "* Apply Max Pooling using `pool_ksize` and `pool_strides`.\n",
        " * We recommend you use same padding, but you're welcome to use any padding.\n"
      ]
    },
    {
      "metadata": {
        "id": "Mhv1JArpWETe",
        "colab_type": "code",
        "colab": {}
      },
      "cell_type": "code",
      "source": [
        "def conv2d_maxpool(x_tensor, conv_num_outputs, conv_ksize, conv_strides, pool_ksize, pool_strides):\n",
        "    \"\"\"\n",
        "    Apply convolution then max pooling to x_tensor\n",
        "    :param x_tensor: TensorFlow Tensor\n",
        "    :param conv_num_outputs: Number of outputs for the convolutional layer\n",
        "    :param conv_strides: Stride 2-D Tuple for convolution\n",
        "    :param pool_ksize: kernal size 2-D Tuple for pool\n",
        "    :param pool_strides: Stride 2-D Tuple for pool\n",
        "    : return: A tensor that represents convolution and max pooling of x_tensor\n",
        "    \"\"\"\n",
        "    shape_of_x_tensor = x_tensor.get_shape().as_list()\n",
        "    F_W = tf.Variable(tf.truncated_normal([conv_ksize[0] ,conv_ksize[1] ,shape_of_x_tensor[-1] ,conv_num_outputs] \n",
        "                                          ,dtype=tf.float32, stddev=0.2))\n",
        "    F_b = tf.Variable(tf.zeros([conv_num_outputs]  ,dtype=tf.float32))\n",
        "    \n",
        "    strides_conv = [1, conv_strides[0], conv_strides[1], 1]\n",
        "    padding = 'SAME'\n",
        "    \n",
        "    output = tf.nn.conv2d(x_tensor, F_W, strides_conv, padding)\n",
        "    output = tf.nn.bias_add(output, F_b)\n",
        "    \n",
        "    output = tf.nn.relu(output)\n",
        "    \n",
        "\n",
        "    ksize_maxpool = [1, pool_ksize[0], pool_ksize[1], 1]\n",
        "    strides_maxpool = [1, pool_strides[0], pool_strides[1], 1]\n",
        "    output = tf.nn.max_pool(output, ksize_maxpool, strides_maxpool, padding)\n",
        "    \n",
        "    return output \n",
        "\n",
        "\n",
        "#https://stackoverflow.com/questions/34642595/tensorflow-strides-argument"
      ],
      "execution_count": 0,
      "outputs": []
    },
    {
      "metadata": {
        "id": "NXh3jJ3wWETh",
        "colab_type": "text"
      },
      "cell_type": "markdown",
      "source": [
        "### Flatten Layer\n",
        "Implement the `flatten` function to change the dimension of `x_tensor` from a 4-D tensor to a 2-D tensor.  The output should be the shape (*Batch Size*, *Flattened Image Size*). You can use [TensorFlow Layers](https://www.tensorflow.org/api_docs/python/tf/layers) or [TensorFlow Layers (contrib)](https://www.tensorflow.org/api_guides/python/contrib.layers) for this layer."
      ]
    },
    {
      "metadata": {
        "id": "KVYK_VQ4WETi",
        "colab_type": "code",
        "colab": {}
      },
      "cell_type": "code",
      "source": [
        "def flatten(x_tensor):\n",
        "    \"\"\"\n",
        "    Flatten x_tensor to (Batch Size, Flattened Image Size)\n",
        "    : x_tensor: A tensor of size (Batch Size, ...), where ... are the image dimensions.\n",
        "    : return: A tensor of size (Batch Size, Flattened Image Size).\n",
        "    \"\"\"\n",
        "    # TODO: Implement Function\n",
        "    shape = x_tensor.get_shape().as_list()\n",
        "    flat_dim = shape[1]*shape[2]*shape[3]\n",
        "    output = tf.reshape(x_tensor, [-1, flat_dim])\n",
        "    return output\n"
      ],
      "execution_count": 0,
      "outputs": []
    },
    {
      "metadata": {
        "id": "nP_5VFItWETl",
        "colab_type": "text"
      },
      "cell_type": "markdown",
      "source": [
        "### Fully-Connected Layer\n",
        "Implement the `fully_conn` function to apply a fully connected layer to `x_tensor` with the shape (*Batch Size*, *num_outputs*). You can use [TensorFlow Layers](https://www.tensorflow.org/api_docs/python/tf/layers) or [TensorFlow Layers (contrib)](https://www.tensorflow.org/api_guides/python/contrib.layers) for this layer."
      ]
    },
    {
      "metadata": {
        "id": "kd8XPrxpWETn",
        "colab_type": "code",
        "colab": {}
      },
      "cell_type": "code",
      "source": [
        "def fully_conn(x_tensor, num_outputs):\n",
        "    \"\"\"\n",
        "    Apply a fully connected layer to x_tensor using weight and bias\n",
        "    : x_tensor: A 2-D tensor where the first dimension is batch size.\n",
        "    : num_outputs: The number of output that the new tensor should be.\n",
        "    : return: A 2-D tensor where the second dimension is num_outputs.\n",
        "    \"\"\"\n",
        "    # TODO: Implement Function\n",
        "    shape = x_tensor.get_shape().as_list()\n",
        "    weights= tf.Variable(tf.truncated_normal([shape[1], num_outputs] ,dtype=tf.float32, stddev=0.2))\n",
        "    biases = tf.Variable(tf.zeros([num_outputs]  ,dtype=tf.float32))\n",
        "    \n",
        "    out = tf.add(tf.matmul(x_tensor, weights), biases)\n",
        "    out = tf.nn.relu(out)\n",
        "    return out\n"
      ],
      "execution_count": 0,
      "outputs": []
    },
    {
      "metadata": {
        "id": "xj5bJNGjWETr",
        "colab_type": "text"
      },
      "cell_type": "markdown",
      "source": [
        "### Output Layer\n",
        "Implement the `output` function to apply a fully connected layer to `x_tensor` with the shape (*Batch Size*, *num_outputs*). You can use [TensorFlow Layers](https://www.tensorflow.org/api_docs/python/tf/layers) or [TensorFlow Layers (contrib)](https://www.tensorflow.org/api_guides/python/contrib.layers) for this layer.\n",
        "\n",
        "Note: Activation, softmax, or cross entropy shouldn't be applied to this."
      ]
    },
    {
      "metadata": {
        "id": "z6mFragGWETr",
        "colab_type": "code",
        "colab": {}
      },
      "cell_type": "code",
      "source": [
        "def output(x_tensor, num_outputs):\n",
        "    \"\"\"\n",
        "    Apply a output layer to x_tensor using weight and bias\n",
        "    : x_tensor: A 2-D tensor where the first dimension is batch size.\n",
        "    : num_outputs: The number of output that the new tensor should be.\n",
        "    : return: A 2-D tensor where the second dimension is num_outputs.\n",
        "    \"\"\"\n",
        "    shape = x_tensor.get_shape().as_list()\n",
        "    weights= tf.Variable(tf.truncated_normal([shape[1], num_outputs] ,dtype=tf.float32, stddev=0.2))\n",
        "    biases = tf.Variable(tf.zeros([num_outputs]  ,dtype=tf.float32))\n",
        "    out = tf.add(tf.matmul(x_tensor, weights), biases)\n",
        "    return out\n"
      ],
      "execution_count": 0,
      "outputs": []
    },
    {
      "metadata": {
        "id": "ztyWA1bnWETv",
        "colab_type": "text"
      },
      "cell_type": "markdown",
      "source": [
        "### Create Convolutional Model\n",
        "Implement the function `conv_net` to create a convolutional neural network model. The function takes in a batch of images, `x`, and outputs logits.  Use the layers you created above to create this model:\n",
        "\n",
        "* Apply 1, 2, or 3 Convolution and Max Pool layers\n",
        "* Apply a Flatten Layer\n",
        "* Apply 1, 2, or 3 Fully Connected Layers\n",
        "* Apply an Output Layer\n",
        "* Return the output\n",
        "* Apply [TensorFlow's Dropout](https://www.tensorflow.org/api_docs/python/tf/nn/dropout) to one or more layers in the model using `keep_prob`. "
      ]
    },
    {
      "metadata": {
        "id": "6eI2wzwWWETx",
        "colab_type": "code",
        "colab": {
          "base_uri": "https://localhost:8080/",
          "height": 272
        },
        "outputId": "fb356435-b4f0-45f9-91c4-2121b0a3baa5"
      },
      "cell_type": "code",
      "source": [
        "def conv_net(x, keep_prob):\n",
        "    \"\"\"\n",
        "    Create a convolutional neural network model\n",
        "    : x: Placeholder tensor that holds image data.\n",
        "    : keep_prob: Placeholder tensor that hold dropout keep probability.\n",
        "    : return: Tensor that represents logits\n",
        "    \"\"\"\n",
        "\n",
        "    out = conv2d_maxpool(x, conv_num_outputs = 16, conv_ksize = (3,3), conv_strides = (1,1), pool_ksize=(2,2), pool_strides=(2,2))\n",
        "    out = conv2d_maxpool(out, conv_num_outputs = 32, conv_ksize = (3,3), conv_strides = (1,1), pool_ksize=(2,2), pool_strides=(2,2))\n",
        "    out = conv2d_maxpool(out, conv_num_outputs = 64, conv_ksize = (3,3), conv_strides = (1,1), pool_ksize=(2,2), pool_strides=(2,2))\n",
        "\n",
        "    # Function Definition from Above:\n",
        "    out = flatten(out)\n",
        "    \n",
        "    \n",
        "\n",
        "    out = fully_conn(out, num_outputs = 64)\n",
        "    out = tf.nn.dropout(out, keep_prob)\n",
        "    out = fully_conn(out, num_outputs = 32)\n",
        "    out = tf.nn.dropout(out, keep_prob)\n",
        "    out = fully_conn(out, num_outputs = 16)\n",
        "    #    Set this to the number of classes\n",
        "    # Function Definition from Above:\n",
        "    out = output(out, num_outputs = 10)\n",
        "\n",
        "    return out\n",
        "\n",
        "\n",
        "##############################\n",
        "## Build the Neural Network ##\n",
        "##############################\n",
        "\n",
        "# Remove previous weights, bias, inputs, etc..\n",
        "tf.reset_default_graph()\n",
        "\n",
        "# Inputs\n",
        "x = neural_net_image_input((32, 32, 3))\n",
        "y = neural_net_label_input(10)\n",
        "keep_prob = neural_net_keep_prob_input()\n",
        "\n",
        "# Model\n",
        "logits = conv_net(x, keep_prob)\n",
        "\n",
        "# Name logits Tensor, so that is can be loaded from disk after training\n",
        "logits = tf.identity(logits, name='logits')\n",
        "\n",
        "# Loss and Optimizer\n",
        "cost = tf.reduce_mean(tf.nn.softmax_cross_entropy_with_logits(logits=logits, labels=y))\n",
        "optimizer = tf.train.AdamOptimizer().minimize(cost)\n",
        "\n",
        "# Accuracy\n",
        "correct_pred = tf.equal(tf.argmax(logits, 1), tf.argmax(y, 1))\n",
        "accuracy = tf.reduce_mean(tf.cast(correct_pred, tf.float32), name='accuracy')\n",
        "\n"
      ],
      "execution_count": 15,
      "outputs": [
        {
          "output_type": "stream",
          "text": [
            "WARNING:tensorflow:From /usr/local/lib/python3.6/dist-packages/tensorflow/python/framework/op_def_library.py:263: colocate_with (from tensorflow.python.framework.ops) is deprecated and will be removed in a future version.\n",
            "Instructions for updating:\n",
            "Colocations handled automatically by placer.\n",
            "WARNING:tensorflow:From <ipython-input-15-2f9c98f02500>:19: calling dropout (from tensorflow.python.ops.nn_ops) with keep_prob is deprecated and will be removed in a future version.\n",
            "Instructions for updating:\n",
            "Please use `rate` instead of `keep_prob`. Rate should be set to `rate = 1 - keep_prob`.\n",
            "WARNING:tensorflow:From <ipython-input-15-2f9c98f02500>:49: softmax_cross_entropy_with_logits (from tensorflow.python.ops.nn_ops) is deprecated and will be removed in a future version.\n",
            "Instructions for updating:\n",
            "\n",
            "Future major versions of TensorFlow will allow gradients to flow\n",
            "into the labels input on backprop by default.\n",
            "\n",
            "See `tf.nn.softmax_cross_entropy_with_logits_v2`.\n",
            "\n"
          ],
          "name": "stdout"
        }
      ]
    },
    {
      "metadata": {
        "id": "p69N_M8MWET0",
        "colab_type": "text"
      },
      "cell_type": "markdown",
      "source": [
        "## Train the Neural Network\n",
        "### Single Optimization\n",
        "Implement the function `train_neural_network` to do a single optimization.  The optimization should use `optimizer` to optimize in `session` with a `feed_dict` of the following:\n",
        "* `x` for image input\n",
        "* `y` for labels\n",
        "* `keep_prob` for keep probability for dropout\n",
        "\n",
        "This function will be called for each batch, so `tf.global_variables_initializer()` has already been called.\n",
        "\n",
        "Note: Nothing needs to be returned. This function is only optimizing the neural network."
      ]
    },
    {
      "metadata": {
        "id": "W217JxQlWET1",
        "colab_type": "code",
        "colab": {}
      },
      "cell_type": "code",
      "source": [
        "def train_neural_network(session, optimizer, keep_probability, feature_batch, label_batch):\n",
        "    \"\"\"\n",
        "    Optimize the session on a batch of images and labels\n",
        "    : session: Current TensorFlow session\n",
        "    : optimizer: TensorFlow optimizer function\n",
        "    : keep_probability: keep probability\n",
        "    : feature_batch: Batch of Numpy image data\n",
        "    : label_batch: Batch of Numpy label data\n",
        "    \"\"\"\n",
        "    session.run(optimizer, feed_dict={x:feature_batch, y:label_batch,keep_prob:keep_probability})\n"
      ],
      "execution_count": 0,
      "outputs": []
    },
    {
      "metadata": {
        "id": "TjEVdgB4WET4",
        "colab_type": "text"
      },
      "cell_type": "markdown",
      "source": [
        "### Show Stats\n",
        "Implement the function `print_stats` to print loss and validation accuracy.  Use the global variables `valid_features` and `valid_labels` to calculate validation accuracy.  Use a keep probability of `1.0` to calculate the loss and validation accuracy."
      ]
    },
    {
      "metadata": {
        "id": "4Ym82aimWET4",
        "colab_type": "code",
        "colab": {}
      },
      "cell_type": "code",
      "source": [
        "def print_stats(session, feature_batch, label_batch, cost, accuracy):\n",
        "    \"\"\"\n",
        "    Print information about loss and validation accuracy\n",
        "    : session: Current TensorFlow session\n",
        "    : feature_batch: Batch of Numpy image data\n",
        "    : label_batch: Batch of Numpy label data\n",
        "    : cost: TensorFlow cost function\n",
        "    : accuracy: TensorFlow accuracy function\n",
        "    \"\"\"\n",
        "    valid_acc = sess.run(accuracy, feed_dict={\n",
        "                x: valid_features,\n",
        "                y: valid_labels,\n",
        "                keep_prob: 1.})\n",
        "    train_acc = sess.run(accuracy, feed_dict={\n",
        "                x: feature_batch,\n",
        "                y: label_batch,\n",
        "                keep_prob: 1.})\n",
        "    train_cost = sess.run(cost, feed_dict={\n",
        "                x: feature_batch,\n",
        "                y: label_batch,\n",
        "                keep_prob: 1.})\n",
        "    print('Cost {::>8.5f}, Accuracy on Training {:.4f} -'\n",
        "                  'Validation Accuracy: {:.4f}'.format(\n",
        "                train_cost,\n",
        "                train_acc,\n",
        "                valid_acc))"
      ],
      "execution_count": 0,
      "outputs": []
    },
    {
      "metadata": {
        "id": "9eXp5dhxWET6",
        "colab_type": "text"
      },
      "cell_type": "markdown",
      "source": [
        "### Hyperparameters\n",
        "Tune the following parameters:\n",
        "* Set `epochs` to the number of iterations until the network stops learning or start overfitting\n",
        "* Set `batch_size` to the highest number that your machine has memory for.  Most people set them to common sizes of memory:\n",
        " * 64\n",
        " * 128\n",
        " * 256\n",
        " * ...\n",
        "* Set `keep_probability` to the probability of keeping a node using dropout"
      ]
    },
    {
      "metadata": {
        "id": "_8WcWANsWET7",
        "colab_type": "code",
        "colab": {}
      },
      "cell_type": "code",
      "source": [
        "epochs = 50\n",
        "batch_size = 256\n",
        "keep_probability = 0.6"
      ],
      "execution_count": 0,
      "outputs": []
    },
    {
      "metadata": {
        "id": "cAE2eP3SWET9",
        "colab_type": "text"
      },
      "cell_type": "markdown",
      "source": [
        "### Train on a Single CIFAR-10 Batch\n",
        "Instead of training the neural network on all the CIFAR-10 batches of data, let's use a single batch. This should save time while you iterate on the model to get a better accuracy.  Once the final validation accuracy is 50% or greater, run the model on all the data in the next section."
      ]
    },
    {
      "metadata": {
        "id": "i_K-ScDeWET-",
        "colab_type": "code",
        "colab": {
          "base_uri": "https://localhost:8080/",
          "height": 874
        },
        "outputId": "b7a1bcf5-9085-47be-e00b-f99223bcfcc6"
      },
      "cell_type": "code",
      "source": [
        "print('Checking the Training on a Single Batch...')\n",
        "with tf.Session() as sess:\n",
        "    # Initializing the variables\n",
        "    sess.run(tf.global_variables_initializer())\n",
        "    \n",
        "    # Training cycle\n",
        "    for epoch in range(epochs):\n",
        "        batch_i = 1\n",
        "        for batch_features, batch_labels in load_preprocess_training_batch(batch_i, batch_size):\n",
        "            train_neural_network(sess, optimizer, keep_probability, batch_features, batch_labels)\n",
        "        print('Epoch {:>2}, CIFAR-10 Batch {}:  '.format(epoch + 1, batch_i), end='')\n",
        "        print_stats(sess, batch_features, batch_labels, cost, accuracy)"
      ],
      "execution_count": 19,
      "outputs": [
        {
          "output_type": "stream",
          "text": [
            "Checking the Training on a Single Batch...\n",
            "Epoch  1, CIFAR-10 Batch 1:  Cost :2.27154, Accuracy on Training 0.1000 -Validation Accuracy: 0.1566\n",
            "Epoch  2, CIFAR-10 Batch 1:  Cost :2.19017, Accuracy on Training 0.1000 -Validation Accuracy: 0.1900\n",
            "Epoch  3, CIFAR-10 Batch 1:  Cost :2.15115, Accuracy on Training 0.1750 -Validation Accuracy: 0.2172\n",
            "Epoch  4, CIFAR-10 Batch 1:  Cost :2.11244, Accuracy on Training 0.1750 -Validation Accuracy: 0.2224\n",
            "Epoch  5, CIFAR-10 Batch 1:  Cost :2.06572, Accuracy on Training 0.1750 -Validation Accuracy: 0.2462\n",
            "Epoch  6, CIFAR-10 Batch 1:  Cost :2.00951, Accuracy on Training 0.3000 -Validation Accuracy: 0.2764\n",
            "Epoch  7, CIFAR-10 Batch 1:  Cost :1.88533, Accuracy on Training 0.3500 -Validation Accuracy: 0.2998\n",
            "Epoch  8, CIFAR-10 Batch 1:  Cost :1.86511, Accuracy on Training 0.3750 -Validation Accuracy: 0.3134\n",
            "Epoch  9, CIFAR-10 Batch 1:  Cost :1.74189, Accuracy on Training 0.3750 -Validation Accuracy: 0.3266\n",
            "Epoch 10, CIFAR-10 Batch 1:  Cost :1.71689, Accuracy on Training 0.4250 -Validation Accuracy: 0.3314\n",
            "Epoch 11, CIFAR-10 Batch 1:  Cost :1.62919, Accuracy on Training 0.4750 -Validation Accuracy: 0.3406\n",
            "Epoch 12, CIFAR-10 Batch 1:  Cost :1.56084, Accuracy on Training 0.5000 -Validation Accuracy: 0.3682\n",
            "Epoch 13, CIFAR-10 Batch 1:  Cost :1.48165, Accuracy on Training 0.5250 -Validation Accuracy: 0.3754\n",
            "Epoch 14, CIFAR-10 Batch 1:  Cost :1.44999, Accuracy on Training 0.5750 -Validation Accuracy: 0.3822\n",
            "Epoch 15, CIFAR-10 Batch 1:  Cost :1.46107, Accuracy on Training 0.5250 -Validation Accuracy: 0.3936\n",
            "Epoch 16, CIFAR-10 Batch 1:  Cost :1.40767, Accuracy on Training 0.5500 -Validation Accuracy: 0.3972\n",
            "Epoch 17, CIFAR-10 Batch 1:  Cost :1.33010, Accuracy on Training 0.6500 -Validation Accuracy: 0.4180\n",
            "Epoch 18, CIFAR-10 Batch 1:  Cost :1.31844, Accuracy on Training 0.7000 -Validation Accuracy: 0.4084\n",
            "Epoch 19, CIFAR-10 Batch 1:  Cost :1.27198, Accuracy on Training 0.7000 -Validation Accuracy: 0.4334\n",
            "Epoch 20, CIFAR-10 Batch 1:  Cost :1.23230, Accuracy on Training 0.6750 -Validation Accuracy: 0.4234\n",
            "Epoch 21, CIFAR-10 Batch 1:  Cost :1.19032, Accuracy on Training 0.7250 -Validation Accuracy: 0.4232\n",
            "Epoch 22, CIFAR-10 Batch 1:  Cost :1.15320, Accuracy on Training 0.6250 -Validation Accuracy: 0.4320\n",
            "Epoch 23, CIFAR-10 Batch 1:  Cost :1.09263, Accuracy on Training 0.6750 -Validation Accuracy: 0.4324\n",
            "Epoch 24, CIFAR-10 Batch 1:  Cost :1.05724, Accuracy on Training 0.7250 -Validation Accuracy: 0.4442\n",
            "Epoch 25, CIFAR-10 Batch 1:  Cost :1.03483, Accuracy on Training 0.6000 -Validation Accuracy: 0.4618\n",
            "Epoch 26, CIFAR-10 Batch 1:  Cost :0.97647, Accuracy on Training 0.6750 -Validation Accuracy: 0.4694\n",
            "Epoch 27, CIFAR-10 Batch 1:  Cost :0.97120, Accuracy on Training 0.7000 -Validation Accuracy: 0.4506\n",
            "Epoch 28, CIFAR-10 Batch 1:  Cost :0.96638, Accuracy on Training 0.6250 -Validation Accuracy: 0.4494\n",
            "Epoch 29, CIFAR-10 Batch 1:  Cost :0.90805, Accuracy on Training 0.7000 -Validation Accuracy: 0.4612\n",
            "Epoch 30, CIFAR-10 Batch 1:  Cost :0.90884, Accuracy on Training 0.6500 -Validation Accuracy: 0.4524\n",
            "Epoch 31, CIFAR-10 Batch 1:  Cost :0.86813, Accuracy on Training 0.6500 -Validation Accuracy: 0.4658\n",
            "Epoch 32, CIFAR-10 Batch 1:  Cost :0.87163, Accuracy on Training 0.6500 -Validation Accuracy: 0.4736\n",
            "Epoch 33, CIFAR-10 Batch 1:  Cost :0.84336, Accuracy on Training 0.6750 -Validation Accuracy: 0.4770\n",
            "Epoch 34, CIFAR-10 Batch 1:  Cost :0.84401, Accuracy on Training 0.6750 -Validation Accuracy: 0.4874\n",
            "Epoch 35, CIFAR-10 Batch 1:  Cost :0.81922, Accuracy on Training 0.7250 -Validation Accuracy: 0.4858\n",
            "Epoch 36, CIFAR-10 Batch 1:  Cost :0.77545, Accuracy on Training 0.6750 -Validation Accuracy: 0.4776\n",
            "Epoch 37, CIFAR-10 Batch 1:  Cost :0.75227, Accuracy on Training 0.7250 -Validation Accuracy: 0.4938\n",
            "Epoch 38, CIFAR-10 Batch 1:  Cost :0.75513, Accuracy on Training 0.7000 -Validation Accuracy: 0.4980\n",
            "Epoch 39, CIFAR-10 Batch 1:  Cost :0.74937, Accuracy on Training 0.7250 -Validation Accuracy: 0.4986\n",
            "Epoch 40, CIFAR-10 Batch 1:  Cost :0.73280, Accuracy on Training 0.7250 -Validation Accuracy: 0.5082\n",
            "Epoch 41, CIFAR-10 Batch 1:  Cost :0.71446, Accuracy on Training 0.7500 -Validation Accuracy: 0.5038\n",
            "Epoch 42, CIFAR-10 Batch 1:  Cost :0.66851, Accuracy on Training 0.8000 -Validation Accuracy: 0.5244\n",
            "Epoch 43, CIFAR-10 Batch 1:  Cost :0.65647, Accuracy on Training 0.7500 -Validation Accuracy: 0.4978\n",
            "Epoch 44, CIFAR-10 Batch 1:  Cost :0.66455, Accuracy on Training 0.7250 -Validation Accuracy: 0.5066\n",
            "Epoch 45, CIFAR-10 Batch 1:  Cost :0.70198, Accuracy on Training 0.7250 -Validation Accuracy: 0.5002\n",
            "Epoch 46, CIFAR-10 Batch 1:  Cost :0.65310, Accuracy on Training 0.7750 -Validation Accuracy: 0.5134\n",
            "Epoch 47, CIFAR-10 Batch 1:  Cost :0.64722, Accuracy on Training 0.7500 -Validation Accuracy: 0.5082\n",
            "Epoch 48, CIFAR-10 Batch 1:  Cost :0.64150, Accuracy on Training 0.7250 -Validation Accuracy: 0.5236\n",
            "Epoch 49, CIFAR-10 Batch 1:  Cost :0.63686, Accuracy on Training 0.7750 -Validation Accuracy: 0.5202\n",
            "Epoch 50, CIFAR-10 Batch 1:  Cost :0.62454, Accuracy on Training 0.8000 -Validation Accuracy: 0.5186\n"
          ],
          "name": "stdout"
        }
      ]
    },
    {
      "metadata": {
        "id": "kOmB1pFFWEUA",
        "colab_type": "text"
      },
      "cell_type": "markdown",
      "source": [
        "### Fully Train the Model\n",
        "Now that you got a good accuracy with a single CIFAR-10 batch, try it with all five batches."
      ]
    },
    {
      "metadata": {
        "scrolled": false,
        "id": "1P3466odWEUB",
        "colab_type": "code",
        "colab": {
          "base_uri": "https://localhost:8080/",
          "height": 4234
        },
        "outputId": "37744207-2a5e-414f-bde7-9f1d422880b9"
      },
      "cell_type": "code",
      "source": [
        "save_model_path = './image_classification'\n",
        "\n",
        "print('Training...')\n",
        "with tf.Session() as sess:\n",
        "    # Initializing the variables\n",
        "    sess.run(tf.global_variables_initializer())\n",
        "    \n",
        "    # Training cycle\n",
        "    for epoch in range(epochs):\n",
        "        # Loop over all batches\n",
        "        n_batches = 5\n",
        "        for batch_i in range(1, n_batches + 1):\n",
        "            for batch_features, batch_labels in load_preprocess_training_batch(batch_i, batch_size):\n",
        "                train_neural_network(sess, optimizer, keep_probability, batch_features, batch_labels)\n",
        "            print('Epoch {:>2}, CIFAR-10 Batch {}:  '.format(epoch + 1, batch_i), end='')\n",
        "            print_stats(sess, batch_features, batch_labels, cost, accuracy)\n",
        "            \n",
        "    # Save Model\n",
        "    saver = tf.train.Saver()\n",
        "    save_path = saver.save(sess, save_model_path)"
      ],
      "execution_count": 20,
      "outputs": [
        {
          "output_type": "stream",
          "text": [
            "Training...\n",
            "Epoch  1, CIFAR-10 Batch 1:  Cost :2.29280, Accuracy on Training 0.1250 -Validation Accuracy: 0.1136\n",
            "Epoch  1, CIFAR-10 Batch 2:  Cost :2.22306, Accuracy on Training 0.2500 -Validation Accuracy: 0.1294\n",
            "Epoch  1, CIFAR-10 Batch 3:  Cost :2.17600, Accuracy on Training 0.2250 -Validation Accuracy: 0.1462\n",
            "Epoch  1, CIFAR-10 Batch 4:  Cost :2.22381, Accuracy on Training 0.2000 -Validation Accuracy: 0.2110\n",
            "Epoch  1, CIFAR-10 Batch 5:  Cost :2.09434, Accuracy on Training 0.2250 -Validation Accuracy: 0.2226\n",
            "Epoch  2, CIFAR-10 Batch 1:  Cost :2.18697, Accuracy on Training 0.2000 -Validation Accuracy: 0.2350\n",
            "Epoch  2, CIFAR-10 Batch 2:  Cost :2.04959, Accuracy on Training 0.1750 -Validation Accuracy: 0.2732\n",
            "Epoch  2, CIFAR-10 Batch 3:  Cost :1.80277, Accuracy on Training 0.2750 -Validation Accuracy: 0.3126\n",
            "Epoch  2, CIFAR-10 Batch 4:  Cost :1.81127, Accuracy on Training 0.3250 -Validation Accuracy: 0.3124\n",
            "Epoch  2, CIFAR-10 Batch 5:  Cost :1.78696, Accuracy on Training 0.3000 -Validation Accuracy: 0.3464\n",
            "Epoch  3, CIFAR-10 Batch 1:  Cost :1.98555, Accuracy on Training 0.2750 -Validation Accuracy: 0.3472\n",
            "Epoch  3, CIFAR-10 Batch 2:  Cost :1.87455, Accuracy on Training 0.2500 -Validation Accuracy: 0.3568\n",
            "Epoch  3, CIFAR-10 Batch 3:  Cost :1.58545, Accuracy on Training 0.3250 -Validation Accuracy: 0.3586\n",
            "Epoch  3, CIFAR-10 Batch 4:  Cost :1.61214, Accuracy on Training 0.3500 -Validation Accuracy: 0.3600\n",
            "Epoch  3, CIFAR-10 Batch 5:  Cost :1.69502, Accuracy on Training 0.3500 -Validation Accuracy: 0.3782\n",
            "Epoch  4, CIFAR-10 Batch 1:  Cost :1.89830, Accuracy on Training 0.4000 -Validation Accuracy: 0.3808\n",
            "Epoch  4, CIFAR-10 Batch 2:  Cost :1.76019, Accuracy on Training 0.3000 -Validation Accuracy: 0.3960\n",
            "Epoch  4, CIFAR-10 Batch 3:  Cost :1.42327, Accuracy on Training 0.4750 -Validation Accuracy: 0.3716\n",
            "Epoch  4, CIFAR-10 Batch 4:  Cost :1.56798, Accuracy on Training 0.4000 -Validation Accuracy: 0.3940\n",
            "Epoch  4, CIFAR-10 Batch 5:  Cost :1.59746, Accuracy on Training 0.4000 -Validation Accuracy: 0.3926\n",
            "Epoch  5, CIFAR-10 Batch 1:  Cost :1.84816, Accuracy on Training 0.3500 -Validation Accuracy: 0.3720\n",
            "Epoch  5, CIFAR-10 Batch 2:  Cost :1.68410, Accuracy on Training 0.4000 -Validation Accuracy: 0.4124\n",
            "Epoch  5, CIFAR-10 Batch 3:  Cost :1.38632, Accuracy on Training 0.4250 -Validation Accuracy: 0.4184\n",
            "Epoch  5, CIFAR-10 Batch 4:  Cost :1.53520, Accuracy on Training 0.4000 -Validation Accuracy: 0.4110\n",
            "Epoch  5, CIFAR-10 Batch 5:  Cost :1.57419, Accuracy on Training 0.4000 -Validation Accuracy: 0.4244\n",
            "Epoch  6, CIFAR-10 Batch 1:  Cost :1.75743, Accuracy on Training 0.4000 -Validation Accuracy: 0.4148\n",
            "Epoch  6, CIFAR-10 Batch 2:  Cost :1.57372, Accuracy on Training 0.5500 -Validation Accuracy: 0.4378\n",
            "Epoch  6, CIFAR-10 Batch 3:  Cost :1.29540, Accuracy on Training 0.5000 -Validation Accuracy: 0.4426\n",
            "Epoch  6, CIFAR-10 Batch 4:  Cost :1.45650, Accuracy on Training 0.5000 -Validation Accuracy: 0.4430\n",
            "Epoch  6, CIFAR-10 Batch 5:  Cost :1.52322, Accuracy on Training 0.4500 -Validation Accuracy: 0.4524\n",
            "Epoch  7, CIFAR-10 Batch 1:  Cost :1.60611, Accuracy on Training 0.4750 -Validation Accuracy: 0.4566\n",
            "Epoch  7, CIFAR-10 Batch 2:  Cost :1.47094, Accuracy on Training 0.5250 -Validation Accuracy: 0.4658\n",
            "Epoch  7, CIFAR-10 Batch 3:  Cost :1.20670, Accuracy on Training 0.5750 -Validation Accuracy: 0.4680\n",
            "Epoch  7, CIFAR-10 Batch 4:  Cost :1.34594, Accuracy on Training 0.5000 -Validation Accuracy: 0.4662\n",
            "Epoch  7, CIFAR-10 Batch 5:  Cost :1.50001, Accuracy on Training 0.4250 -Validation Accuracy: 0.4656\n",
            "Epoch  8, CIFAR-10 Batch 1:  Cost :1.51826, Accuracy on Training 0.4500 -Validation Accuracy: 0.4780\n",
            "Epoch  8, CIFAR-10 Batch 2:  Cost :1.38263, Accuracy on Training 0.5750 -Validation Accuracy: 0.4836\n",
            "Epoch  8, CIFAR-10 Batch 3:  Cost :1.13642, Accuracy on Training 0.6000 -Validation Accuracy: 0.4802\n",
            "Epoch  8, CIFAR-10 Batch 4:  Cost :1.30546, Accuracy on Training 0.5750 -Validation Accuracy: 0.4732\n",
            "Epoch  8, CIFAR-10 Batch 5:  Cost :1.35551, Accuracy on Training 0.5000 -Validation Accuracy: 0.4956\n",
            "Epoch  9, CIFAR-10 Batch 1:  Cost :1.39241, Accuracy on Training 0.4750 -Validation Accuracy: 0.4904\n",
            "Epoch  9, CIFAR-10 Batch 2:  Cost :1.31258, Accuracy on Training 0.5500 -Validation Accuracy: 0.5028\n",
            "Epoch  9, CIFAR-10 Batch 3:  Cost :1.09062, Accuracy on Training 0.6250 -Validation Accuracy: 0.4876\n",
            "Epoch  9, CIFAR-10 Batch 4:  Cost :1.24517, Accuracy on Training 0.5750 -Validation Accuracy: 0.5020\n",
            "Epoch  9, CIFAR-10 Batch 5:  Cost :1.29054, Accuracy on Training 0.5000 -Validation Accuracy: 0.5088\n",
            "Epoch 10, CIFAR-10 Batch 1:  Cost :1.36634, Accuracy on Training 0.5000 -Validation Accuracy: 0.5086\n",
            "Epoch 10, CIFAR-10 Batch 2:  Cost :1.24865, Accuracy on Training 0.5500 -Validation Accuracy: 0.5164\n",
            "Epoch 10, CIFAR-10 Batch 3:  Cost :1.04778, Accuracy on Training 0.7000 -Validation Accuracy: 0.5226\n",
            "Epoch 10, CIFAR-10 Batch 4:  Cost :1.19924, Accuracy on Training 0.5500 -Validation Accuracy: 0.5186\n",
            "Epoch 10, CIFAR-10 Batch 5:  Cost :1.21380, Accuracy on Training 0.5250 -Validation Accuracy: 0.5152\n",
            "Epoch 11, CIFAR-10 Batch 1:  Cost :1.29439, Accuracy on Training 0.5500 -Validation Accuracy: 0.5276\n",
            "Epoch 11, CIFAR-10 Batch 2:  Cost :1.24597, Accuracy on Training 0.4750 -Validation Accuracy: 0.5208\n",
            "Epoch 11, CIFAR-10 Batch 3:  Cost :0.96584, Accuracy on Training 0.7500 -Validation Accuracy: 0.5324\n",
            "Epoch 11, CIFAR-10 Batch 4:  Cost :1.11878, Accuracy on Training 0.6250 -Validation Accuracy: 0.5422\n",
            "Epoch 11, CIFAR-10 Batch 5:  Cost :1.14384, Accuracy on Training 0.5500 -Validation Accuracy: 0.5378\n",
            "Epoch 12, CIFAR-10 Batch 1:  Cost :1.28929, Accuracy on Training 0.5750 -Validation Accuracy: 0.5310\n",
            "Epoch 12, CIFAR-10 Batch 2:  Cost :1.13922, Accuracy on Training 0.6000 -Validation Accuracy: 0.5452\n",
            "Epoch 12, CIFAR-10 Batch 3:  Cost :0.90351, Accuracy on Training 0.7250 -Validation Accuracy: 0.5428\n",
            "Epoch 12, CIFAR-10 Batch 4:  Cost :1.08207, Accuracy on Training 0.6750 -Validation Accuracy: 0.5514\n",
            "Epoch 12, CIFAR-10 Batch 5:  Cost :1.11737, Accuracy on Training 0.6250 -Validation Accuracy: 0.5488\n",
            "Epoch 13, CIFAR-10 Batch 1:  Cost :1.16429, Accuracy on Training 0.5500 -Validation Accuracy: 0.5472\n",
            "Epoch 13, CIFAR-10 Batch 2:  Cost :1.11440, Accuracy on Training 0.6000 -Validation Accuracy: 0.5494\n",
            "Epoch 13, CIFAR-10 Batch 3:  Cost :0.86783, Accuracy on Training 0.7500 -Validation Accuracy: 0.5540\n",
            "Epoch 13, CIFAR-10 Batch 4:  Cost :0.99966, Accuracy on Training 0.7000 -Validation Accuracy: 0.5564\n",
            "Epoch 13, CIFAR-10 Batch 5:  Cost :0.99673, Accuracy on Training 0.6500 -Validation Accuracy: 0.5644\n",
            "Epoch 14, CIFAR-10 Batch 1:  Cost :1.10826, Accuracy on Training 0.5500 -Validation Accuracy: 0.5624\n",
            "Epoch 14, CIFAR-10 Batch 2:  Cost :1.03825, Accuracy on Training 0.7000 -Validation Accuracy: 0.5652\n",
            "Epoch 14, CIFAR-10 Batch 3:  Cost :0.85601, Accuracy on Training 0.7500 -Validation Accuracy: 0.5692\n",
            "Epoch 14, CIFAR-10 Batch 4:  Cost :0.95710, Accuracy on Training 0.7500 -Validation Accuracy: 0.5670\n",
            "Epoch 14, CIFAR-10 Batch 5:  Cost :0.93956, Accuracy on Training 0.7000 -Validation Accuracy: 0.5624\n",
            "Epoch 15, CIFAR-10 Batch 1:  Cost :1.06935, Accuracy on Training 0.5750 -Validation Accuracy: 0.5632\n",
            "Epoch 15, CIFAR-10 Batch 2:  Cost :1.08277, Accuracy on Training 0.7250 -Validation Accuracy: 0.5670\n",
            "Epoch 15, CIFAR-10 Batch 3:  Cost :0.79391, Accuracy on Training 0.8000 -Validation Accuracy: 0.5668\n",
            "Epoch 15, CIFAR-10 Batch 4:  Cost :0.96973, Accuracy on Training 0.7000 -Validation Accuracy: 0.5710\n",
            "Epoch 15, CIFAR-10 Batch 5:  Cost :0.93234, Accuracy on Training 0.7750 -Validation Accuracy: 0.5784\n",
            "Epoch 16, CIFAR-10 Batch 1:  Cost :1.04565, Accuracy on Training 0.6000 -Validation Accuracy: 0.5580\n",
            "Epoch 16, CIFAR-10 Batch 2:  Cost :0.96040, Accuracy on Training 0.6750 -Validation Accuracy: 0.5812\n",
            "Epoch 16, CIFAR-10 Batch 3:  Cost :0.80654, Accuracy on Training 0.8250 -Validation Accuracy: 0.5618\n",
            "Epoch 16, CIFAR-10 Batch 4:  Cost :0.88917, Accuracy on Training 0.7750 -Validation Accuracy: 0.5800\n",
            "Epoch 16, CIFAR-10 Batch 5:  Cost :0.85211, Accuracy on Training 0.8250 -Validation Accuracy: 0.5874\n",
            "Epoch 17, CIFAR-10 Batch 1:  Cost :0.98103, Accuracy on Training 0.6250 -Validation Accuracy: 0.5810\n",
            "Epoch 17, CIFAR-10 Batch 2:  Cost :0.91142, Accuracy on Training 0.7250 -Validation Accuracy: 0.5960\n",
            "Epoch 17, CIFAR-10 Batch 3:  Cost :0.73622, Accuracy on Training 0.8000 -Validation Accuracy: 0.5828\n",
            "Epoch 17, CIFAR-10 Batch 4:  Cost :0.85381, Accuracy on Training 0.8000 -Validation Accuracy: 0.5944\n",
            "Epoch 17, CIFAR-10 Batch 5:  Cost :0.80439, Accuracy on Training 0.8500 -Validation Accuracy: 0.5916\n",
            "Epoch 18, CIFAR-10 Batch 1:  Cost :0.97367, Accuracy on Training 0.6250 -Validation Accuracy: 0.5938\n",
            "Epoch 18, CIFAR-10 Batch 2:  Cost :0.93785, Accuracy on Training 0.7000 -Validation Accuracy: 0.5934\n",
            "Epoch 18, CIFAR-10 Batch 3:  Cost :0.73503, Accuracy on Training 0.7500 -Validation Accuracy: 0.5892\n",
            "Epoch 18, CIFAR-10 Batch 4:  Cost :0.84191, Accuracy on Training 0.7000 -Validation Accuracy: 0.5994\n",
            "Epoch 18, CIFAR-10 Batch 5:  Cost :0.85016, Accuracy on Training 0.8000 -Validation Accuracy: 0.5918\n",
            "Epoch 19, CIFAR-10 Batch 1:  Cost :0.89044, Accuracy on Training 0.6750 -Validation Accuracy: 0.6000\n",
            "Epoch 19, CIFAR-10 Batch 2:  Cost :0.93065, Accuracy on Training 0.7500 -Validation Accuracy: 0.5940\n",
            "Epoch 19, CIFAR-10 Batch 3:  Cost :0.67804, Accuracy on Training 0.8500 -Validation Accuracy: 0.6136\n",
            "Epoch 19, CIFAR-10 Batch 4:  Cost :0.81661, Accuracy on Training 0.7000 -Validation Accuracy: 0.6090\n",
            "Epoch 19, CIFAR-10 Batch 5:  Cost :0.75135, Accuracy on Training 0.8250 -Validation Accuracy: 0.6042\n",
            "Epoch 20, CIFAR-10 Batch 1:  Cost :0.84201, Accuracy on Training 0.6500 -Validation Accuracy: 0.6032\n",
            "Epoch 20, CIFAR-10 Batch 2:  Cost :0.79173, Accuracy on Training 0.8000 -Validation Accuracy: 0.6054\n",
            "Epoch 20, CIFAR-10 Batch 3:  Cost :0.69458, Accuracy on Training 0.7500 -Validation Accuracy: 0.5958\n",
            "Epoch 20, CIFAR-10 Batch 4:  Cost :0.77977, Accuracy on Training 0.7750 -Validation Accuracy: 0.6094\n",
            "Epoch 20, CIFAR-10 Batch 5:  Cost :0.70192, Accuracy on Training 0.8500 -Validation Accuracy: 0.6188\n",
            "Epoch 21, CIFAR-10 Batch 1:  Cost :0.85983, Accuracy on Training 0.6250 -Validation Accuracy: 0.5888\n",
            "Epoch 21, CIFAR-10 Batch 2:  Cost :0.75115, Accuracy on Training 0.7250 -Validation Accuracy: 0.6126\n",
            "Epoch 21, CIFAR-10 Batch 3:  Cost :0.63308, Accuracy on Training 0.8000 -Validation Accuracy: 0.6136\n",
            "Epoch 21, CIFAR-10 Batch 4:  Cost :0.75684, Accuracy on Training 0.8000 -Validation Accuracy: 0.6034\n",
            "Epoch 21, CIFAR-10 Batch 5:  Cost :0.70292, Accuracy on Training 0.8250 -Validation Accuracy: 0.6180\n",
            "Epoch 22, CIFAR-10 Batch 1:  Cost :0.80068, Accuracy on Training 0.6750 -Validation Accuracy: 0.6040\n",
            "Epoch 22, CIFAR-10 Batch 2:  Cost :0.75210, Accuracy on Training 0.7500 -Validation Accuracy: 0.6246\n",
            "Epoch 22, CIFAR-10 Batch 3:  Cost :0.59802, Accuracy on Training 0.8750 -Validation Accuracy: 0.6160\n",
            "Epoch 22, CIFAR-10 Batch 4:  Cost :0.69715, Accuracy on Training 0.8000 -Validation Accuracy: 0.6256\n",
            "Epoch 22, CIFAR-10 Batch 5:  Cost :0.62165, Accuracy on Training 0.8500 -Validation Accuracy: 0.6114\n",
            "Epoch 23, CIFAR-10 Batch 1:  Cost :0.79883, Accuracy on Training 0.6500 -Validation Accuracy: 0.6072\n",
            "Epoch 23, CIFAR-10 Batch 2:  Cost :0.70893, Accuracy on Training 0.8000 -Validation Accuracy: 0.6240\n",
            "Epoch 23, CIFAR-10 Batch 3:  Cost :0.58431, Accuracy on Training 0.8500 -Validation Accuracy: 0.6118\n",
            "Epoch 23, CIFAR-10 Batch 4:  Cost :0.68276, Accuracy on Training 0.8500 -Validation Accuracy: 0.6268\n",
            "Epoch 23, CIFAR-10 Batch 5:  Cost :0.61235, Accuracy on Training 0.8750 -Validation Accuracy: 0.6274\n",
            "Epoch 24, CIFAR-10 Batch 1:  Cost :0.71372, Accuracy on Training 0.7750 -Validation Accuracy: 0.6200\n",
            "Epoch 24, CIFAR-10 Batch 2:  Cost :0.66586, Accuracy on Training 0.8250 -Validation Accuracy: 0.6206\n",
            "Epoch 24, CIFAR-10 Batch 3:  Cost :0.55447, Accuracy on Training 0.8250 -Validation Accuracy: 0.6244\n",
            "Epoch 24, CIFAR-10 Batch 4:  Cost :0.72521, Accuracy on Training 0.8000 -Validation Accuracy: 0.6286\n",
            "Epoch 24, CIFAR-10 Batch 5:  Cost :0.58182, Accuracy on Training 0.8750 -Validation Accuracy: 0.6332\n",
            "Epoch 25, CIFAR-10 Batch 1:  Cost :0.71860, Accuracy on Training 0.7500 -Validation Accuracy: 0.6262\n",
            "Epoch 25, CIFAR-10 Batch 2:  Cost :0.65575, Accuracy on Training 0.8000 -Validation Accuracy: 0.6388\n",
            "Epoch 25, CIFAR-10 Batch 3:  Cost :0.51357, Accuracy on Training 0.9500 -Validation Accuracy: 0.6316\n",
            "Epoch 25, CIFAR-10 Batch 4:  Cost :0.65668, Accuracy on Training 0.8250 -Validation Accuracy: 0.6376\n",
            "Epoch 25, CIFAR-10 Batch 5:  Cost :0.55343, Accuracy on Training 0.9250 -Validation Accuracy: 0.6362\n",
            "Epoch 26, CIFAR-10 Batch 1:  Cost :0.67477, Accuracy on Training 0.7500 -Validation Accuracy: 0.6268\n",
            "Epoch 26, CIFAR-10 Batch 2:  Cost :0.63861, Accuracy on Training 0.8250 -Validation Accuracy: 0.6356\n",
            "Epoch 26, CIFAR-10 Batch 3:  Cost :0.48609, Accuracy on Training 0.9000 -Validation Accuracy: 0.6354\n",
            "Epoch 26, CIFAR-10 Batch 4:  Cost :0.64277, Accuracy on Training 0.8750 -Validation Accuracy: 0.6352\n",
            "Epoch 26, CIFAR-10 Batch 5:  Cost :0.53502, Accuracy on Training 0.8750 -Validation Accuracy: 0.6364\n",
            "Epoch 27, CIFAR-10 Batch 1:  Cost :0.65262, Accuracy on Training 0.7500 -Validation Accuracy: 0.6328\n",
            "Epoch 27, CIFAR-10 Batch 2:  Cost :0.59446, Accuracy on Training 0.8250 -Validation Accuracy: 0.6408\n",
            "Epoch 27, CIFAR-10 Batch 3:  Cost :0.47521, Accuracy on Training 0.8750 -Validation Accuracy: 0.6354\n",
            "Epoch 27, CIFAR-10 Batch 4:  Cost :0.60164, Accuracy on Training 0.9000 -Validation Accuracy: 0.6322\n",
            "Epoch 27, CIFAR-10 Batch 5:  Cost :0.51879, Accuracy on Training 0.9500 -Validation Accuracy: 0.6390\n",
            "Epoch 28, CIFAR-10 Batch 1:  Cost :0.62723, Accuracy on Training 0.7500 -Validation Accuracy: 0.6246\n",
            "Epoch 28, CIFAR-10 Batch 2:  Cost :0.56072, Accuracy on Training 0.7750 -Validation Accuracy: 0.6292\n",
            "Epoch 28, CIFAR-10 Batch 3:  Cost :0.46026, Accuracy on Training 0.9000 -Validation Accuracy: 0.6348\n",
            "Epoch 28, CIFAR-10 Batch 4:  Cost :0.60429, Accuracy on Training 0.9000 -Validation Accuracy: 0.6418\n",
            "Epoch 28, CIFAR-10 Batch 5:  Cost :0.49030, Accuracy on Training 0.9000 -Validation Accuracy: 0.6280\n",
            "Epoch 29, CIFAR-10 Batch 1:  Cost :0.65442, Accuracy on Training 0.8000 -Validation Accuracy: 0.6134\n",
            "Epoch 29, CIFAR-10 Batch 2:  Cost :0.55178, Accuracy on Training 0.7750 -Validation Accuracy: 0.6324\n",
            "Epoch 29, CIFAR-10 Batch 3:  Cost :0.46807, Accuracy on Training 0.9000 -Validation Accuracy: 0.6288\n",
            "Epoch 29, CIFAR-10 Batch 4:  Cost :0.56011, Accuracy on Training 0.9000 -Validation Accuracy: 0.6486\n",
            "Epoch 29, CIFAR-10 Batch 5:  Cost :0.50142, Accuracy on Training 0.9250 -Validation Accuracy: 0.6428\n",
            "Epoch 30, CIFAR-10 Batch 1:  Cost :0.64266, Accuracy on Training 0.7750 -Validation Accuracy: 0.6242\n",
            "Epoch 30, CIFAR-10 Batch 2:  Cost :0.53538, Accuracy on Training 0.8000 -Validation Accuracy: 0.6366\n",
            "Epoch 30, CIFAR-10 Batch 3:  Cost :0.45138, Accuracy on Training 0.9000 -Validation Accuracy: 0.6382\n",
            "Epoch 30, CIFAR-10 Batch 4:  Cost :0.61181, Accuracy on Training 0.9000 -Validation Accuracy: 0.6244\n",
            "Epoch 30, CIFAR-10 Batch 5:  Cost :0.48086, Accuracy on Training 0.9250 -Validation Accuracy: 0.6352\n",
            "Epoch 31, CIFAR-10 Batch 1:  Cost :0.60516, Accuracy on Training 0.7750 -Validation Accuracy: 0.6262\n",
            "Epoch 31, CIFAR-10 Batch 2:  Cost :0.51826, Accuracy on Training 0.8250 -Validation Accuracy: 0.6364\n",
            "Epoch 31, CIFAR-10 Batch 3:  Cost :0.42685, Accuracy on Training 0.9250 -Validation Accuracy: 0.6488\n",
            "Epoch 31, CIFAR-10 Batch 4:  Cost :0.56620, Accuracy on Training 0.8750 -Validation Accuracy: 0.6460\n",
            "Epoch 31, CIFAR-10 Batch 5:  Cost :0.45139, Accuracy on Training 0.9500 -Validation Accuracy: 0.6390\n",
            "Epoch 32, CIFAR-10 Batch 1:  Cost :0.60359, Accuracy on Training 0.8000 -Validation Accuracy: 0.6282\n",
            "Epoch 32, CIFAR-10 Batch 2:  Cost :0.47223, Accuracy on Training 0.8250 -Validation Accuracy: 0.6366\n",
            "Epoch 32, CIFAR-10 Batch 3:  Cost :0.40052, Accuracy on Training 0.9500 -Validation Accuracy: 0.6516\n",
            "Epoch 32, CIFAR-10 Batch 4:  Cost :0.55004, Accuracy on Training 0.9000 -Validation Accuracy: 0.6380\n",
            "Epoch 32, CIFAR-10 Batch 5:  Cost :0.43306, Accuracy on Training 0.9500 -Validation Accuracy: 0.6520\n",
            "Epoch 33, CIFAR-10 Batch 1:  Cost :0.53735, Accuracy on Training 0.8500 -Validation Accuracy: 0.6518\n",
            "Epoch 33, CIFAR-10 Batch 2:  Cost :0.48680, Accuracy on Training 0.8250 -Validation Accuracy: 0.6244\n",
            "Epoch 33, CIFAR-10 Batch 3:  Cost :0.42764, Accuracy on Training 0.9500 -Validation Accuracy: 0.6404\n",
            "Epoch 33, CIFAR-10 Batch 4:  Cost :0.51917, Accuracy on Training 0.9000 -Validation Accuracy: 0.6480\n",
            "Epoch 33, CIFAR-10 Batch 5:  Cost :0.41934, Accuracy on Training 0.9250 -Validation Accuracy: 0.6450\n",
            "Epoch 34, CIFAR-10 Batch 1:  Cost :0.56699, Accuracy on Training 0.8250 -Validation Accuracy: 0.6382\n",
            "Epoch 34, CIFAR-10 Batch 2:  Cost :0.48985, Accuracy on Training 0.8500 -Validation Accuracy: 0.6494\n",
            "Epoch 34, CIFAR-10 Batch 3:  Cost :0.40945, Accuracy on Training 0.9500 -Validation Accuracy: 0.6494\n",
            "Epoch 34, CIFAR-10 Batch 4:  Cost :0.48758, Accuracy on Training 0.9250 -Validation Accuracy: 0.6436\n",
            "Epoch 34, CIFAR-10 Batch 5:  Cost :0.38664, Accuracy on Training 0.9500 -Validation Accuracy: 0.6504\n",
            "Epoch 35, CIFAR-10 Batch 1:  Cost :0.52330, Accuracy on Training 0.8250 -Validation Accuracy: 0.6348\n",
            "Epoch 35, CIFAR-10 Batch 2:  Cost :0.46125, Accuracy on Training 0.8000 -Validation Accuracy: 0.6406\n",
            "Epoch 35, CIFAR-10 Batch 3:  Cost :0.38256, Accuracy on Training 0.9500 -Validation Accuracy: 0.6526\n",
            "Epoch 35, CIFAR-10 Batch 4:  Cost :0.51226, Accuracy on Training 0.9000 -Validation Accuracy: 0.6464\n",
            "Epoch 35, CIFAR-10 Batch 5:  Cost :0.38794, Accuracy on Training 0.9500 -Validation Accuracy: 0.6548\n",
            "Epoch 36, CIFAR-10 Batch 1:  Cost :0.53283, Accuracy on Training 0.8000 -Validation Accuracy: 0.6228\n",
            "Epoch 36, CIFAR-10 Batch 2:  Cost :0.46953, Accuracy on Training 0.8000 -Validation Accuracy: 0.6508\n",
            "Epoch 36, CIFAR-10 Batch 3:  Cost :0.37700, Accuracy on Training 0.9500 -Validation Accuracy: 0.6534\n",
            "Epoch 36, CIFAR-10 Batch 4:  Cost :0.46111, Accuracy on Training 0.9000 -Validation Accuracy: 0.6470\n",
            "Epoch 36, CIFAR-10 Batch 5:  Cost :0.40885, Accuracy on Training 0.9500 -Validation Accuracy: 0.6432\n",
            "Epoch 37, CIFAR-10 Batch 1:  Cost :0.54209, Accuracy on Training 0.8250 -Validation Accuracy: 0.6432\n",
            "Epoch 37, CIFAR-10 Batch 2:  Cost :0.46532, Accuracy on Training 0.8000 -Validation Accuracy: 0.6464\n",
            "Epoch 37, CIFAR-10 Batch 3:  Cost :0.34960, Accuracy on Training 0.9500 -Validation Accuracy: 0.6556\n",
            "Epoch 37, CIFAR-10 Batch 4:  Cost :0.48171, Accuracy on Training 0.9000 -Validation Accuracy: 0.6466\n",
            "Epoch 37, CIFAR-10 Batch 5:  Cost :0.37895, Accuracy on Training 1.0000 -Validation Accuracy: 0.6528\n",
            "Epoch 38, CIFAR-10 Batch 1:  Cost :0.53278, Accuracy on Training 0.8250 -Validation Accuracy: 0.6524\n",
            "Epoch 38, CIFAR-10 Batch 2:  Cost :0.50758, Accuracy on Training 0.8250 -Validation Accuracy: 0.6452\n",
            "Epoch 38, CIFAR-10 Batch 3:  Cost :0.36227, Accuracy on Training 0.9250 -Validation Accuracy: 0.6584\n",
            "Epoch 38, CIFAR-10 Batch 4:  Cost :0.44975, Accuracy on Training 0.9250 -Validation Accuracy: 0.6546\n",
            "Epoch 38, CIFAR-10 Batch 5:  Cost :0.35314, Accuracy on Training 1.0000 -Validation Accuracy: 0.6568\n",
            "Epoch 39, CIFAR-10 Batch 1:  Cost :0.51744, Accuracy on Training 0.8250 -Validation Accuracy: 0.6436\n",
            "Epoch 39, CIFAR-10 Batch 2:  Cost :0.42064, Accuracy on Training 0.8500 -Validation Accuracy: 0.6510\n",
            "Epoch 39, CIFAR-10 Batch 3:  Cost :0.36028, Accuracy on Training 0.9250 -Validation Accuracy: 0.6582\n",
            "Epoch 39, CIFAR-10 Batch 4:  Cost :0.47816, Accuracy on Training 0.9250 -Validation Accuracy: 0.6514\n",
            "Epoch 39, CIFAR-10 Batch 5:  Cost :0.37692, Accuracy on Training 0.9750 -Validation Accuracy: 0.6534\n",
            "Epoch 40, CIFAR-10 Batch 1:  Cost :0.54922, Accuracy on Training 0.8000 -Validation Accuracy: 0.6528\n",
            "Epoch 40, CIFAR-10 Batch 2:  Cost :0.42200, Accuracy on Training 0.8500 -Validation Accuracy: 0.6538\n",
            "Epoch 40, CIFAR-10 Batch 3:  Cost :0.31189, Accuracy on Training 0.9750 -Validation Accuracy: 0.6610\n",
            "Epoch 40, CIFAR-10 Batch 4:  Cost :0.43556, Accuracy on Training 0.9500 -Validation Accuracy: 0.6566\n",
            "Epoch 40, CIFAR-10 Batch 5:  Cost :0.34247, Accuracy on Training 0.9750 -Validation Accuracy: 0.6582\n",
            "Epoch 41, CIFAR-10 Batch 1:  Cost :0.47700, Accuracy on Training 0.9000 -Validation Accuracy: 0.6516\n",
            "Epoch 41, CIFAR-10 Batch 2:  Cost :0.39939, Accuracy on Training 0.8250 -Validation Accuracy: 0.6652\n",
            "Epoch 41, CIFAR-10 Batch 3:  Cost :0.33847, Accuracy on Training 0.9500 -Validation Accuracy: 0.6636\n",
            "Epoch 41, CIFAR-10 Batch 4:  Cost :0.44657, Accuracy on Training 0.9000 -Validation Accuracy: 0.6318\n",
            "Epoch 41, CIFAR-10 Batch 5:  Cost :0.32278, Accuracy on Training 0.9500 -Validation Accuracy: 0.6572\n",
            "Epoch 42, CIFAR-10 Batch 1:  Cost :0.48462, Accuracy on Training 0.8500 -Validation Accuracy: 0.6566\n",
            "Epoch 42, CIFAR-10 Batch 2:  Cost :0.43491, Accuracy on Training 0.8500 -Validation Accuracy: 0.6548\n",
            "Epoch 42, CIFAR-10 Batch 3:  Cost :0.33924, Accuracy on Training 0.9750 -Validation Accuracy: 0.6560\n",
            "Epoch 42, CIFAR-10 Batch 4:  Cost :0.42277, Accuracy on Training 0.9500 -Validation Accuracy: 0.6610\n",
            "Epoch 42, CIFAR-10 Batch 5:  Cost :0.35423, Accuracy on Training 0.9500 -Validation Accuracy: 0.6462\n",
            "Epoch 43, CIFAR-10 Batch 1:  Cost :0.45919, Accuracy on Training 0.8750 -Validation Accuracy: 0.6646\n",
            "Epoch 43, CIFAR-10 Batch 2:  Cost :0.43208, Accuracy on Training 0.8750 -Validation Accuracy: 0.6586\n",
            "Epoch 43, CIFAR-10 Batch 3:  Cost :0.31709, Accuracy on Training 0.9750 -Validation Accuracy: 0.6610\n",
            "Epoch 43, CIFAR-10 Batch 4:  Cost :0.42907, Accuracy on Training 0.9000 -Validation Accuracy: 0.6560\n",
            "Epoch 43, CIFAR-10 Batch 5:  Cost :0.32105, Accuracy on Training 1.0000 -Validation Accuracy: 0.6472\n",
            "Epoch 44, CIFAR-10 Batch 1:  Cost :0.45389, Accuracy on Training 0.9000 -Validation Accuracy: 0.6574\n",
            "Epoch 44, CIFAR-10 Batch 2:  Cost :0.42752, Accuracy on Training 0.8500 -Validation Accuracy: 0.6668\n",
            "Epoch 44, CIFAR-10 Batch 3:  Cost :0.33070, Accuracy on Training 0.9250 -Validation Accuracy: 0.6612\n",
            "Epoch 44, CIFAR-10 Batch 4:  Cost :0.43550, Accuracy on Training 0.9250 -Validation Accuracy: 0.6542\n",
            "Epoch 44, CIFAR-10 Batch 5:  Cost :0.40780, Accuracy on Training 0.9250 -Validation Accuracy: 0.6348\n",
            "Epoch 45, CIFAR-10 Batch 1:  Cost :0.47144, Accuracy on Training 0.8750 -Validation Accuracy: 0.6610\n",
            "Epoch 45, CIFAR-10 Batch 2:  Cost :0.40428, Accuracy on Training 0.8750 -Validation Accuracy: 0.6690\n",
            "Epoch 45, CIFAR-10 Batch 3:  Cost :0.32460, Accuracy on Training 0.9500 -Validation Accuracy: 0.6584\n",
            "Epoch 45, CIFAR-10 Batch 4:  Cost :0.42837, Accuracy on Training 0.9500 -Validation Accuracy: 0.6604\n",
            "Epoch 45, CIFAR-10 Batch 5:  Cost :0.32055, Accuracy on Training 0.9750 -Validation Accuracy: 0.6504\n",
            "Epoch 46, CIFAR-10 Batch 1:  Cost :0.48297, Accuracy on Training 0.8750 -Validation Accuracy: 0.6606\n",
            "Epoch 46, CIFAR-10 Batch 2:  Cost :0.42278, Accuracy on Training 0.8500 -Validation Accuracy: 0.6658\n",
            "Epoch 46, CIFAR-10 Batch 3:  Cost :0.32420, Accuracy on Training 0.9500 -Validation Accuracy: 0.6608\n",
            "Epoch 46, CIFAR-10 Batch 4:  Cost :0.39277, Accuracy on Training 0.9500 -Validation Accuracy: 0.6628\n",
            "Epoch 46, CIFAR-10 Batch 5:  Cost :0.31889, Accuracy on Training 1.0000 -Validation Accuracy: 0.6646\n",
            "Epoch 47, CIFAR-10 Batch 1:  Cost :0.43493, Accuracy on Training 0.9000 -Validation Accuracy: 0.6650\n",
            "Epoch 47, CIFAR-10 Batch 2:  Cost :0.43151, Accuracy on Training 0.8750 -Validation Accuracy: 0.6640\n",
            "Epoch 47, CIFAR-10 Batch 3:  Cost :0.29900, Accuracy on Training 0.9500 -Validation Accuracy: 0.6734\n",
            "Epoch 47, CIFAR-10 Batch 4:  Cost :0.36610, Accuracy on Training 0.9500 -Validation Accuracy: 0.6626\n",
            "Epoch 47, CIFAR-10 Batch 5:  Cost :0.31165, Accuracy on Training 0.9750 -Validation Accuracy: 0.6564\n",
            "Epoch 48, CIFAR-10 Batch 1:  Cost :0.47260, Accuracy on Training 0.8750 -Validation Accuracy: 0.6658\n",
            "Epoch 48, CIFAR-10 Batch 2:  Cost :0.40025, Accuracy on Training 0.8750 -Validation Accuracy: 0.6570\n",
            "Epoch 48, CIFAR-10 Batch 3:  Cost :0.31874, Accuracy on Training 0.9500 -Validation Accuracy: 0.6684\n",
            "Epoch 48, CIFAR-10 Batch 4:  Cost :0.40558, Accuracy on Training 0.9500 -Validation Accuracy: 0.6622\n",
            "Epoch 48, CIFAR-10 Batch 5:  Cost :0.32472, Accuracy on Training 1.0000 -Validation Accuracy: 0.6484\n",
            "Epoch 49, CIFAR-10 Batch 1:  Cost :0.42667, Accuracy on Training 0.8750 -Validation Accuracy: 0.6544\n",
            "Epoch 49, CIFAR-10 Batch 2:  Cost :0.40979, Accuracy on Training 0.8750 -Validation Accuracy: 0.6600\n",
            "Epoch 49, CIFAR-10 Batch 3:  Cost :0.29671, Accuracy on Training 0.9500 -Validation Accuracy: 0.6728\n",
            "Epoch 49, CIFAR-10 Batch 4:  Cost :0.38702, Accuracy on Training 0.9500 -Validation Accuracy: 0.6688\n",
            "Epoch 49, CIFAR-10 Batch 5:  Cost :0.28927, Accuracy on Training 1.0000 -Validation Accuracy: 0.6616\n",
            "Epoch 50, CIFAR-10 Batch 1:  Cost :0.46144, Accuracy on Training 0.8750 -Validation Accuracy: 0.6574\n",
            "Epoch 50, CIFAR-10 Batch 2:  Cost :0.41027, Accuracy on Training 0.8750 -Validation Accuracy: 0.6448\n",
            "Epoch 50, CIFAR-10 Batch 3:  Cost :0.29893, Accuracy on Training 0.9500 -Validation Accuracy: 0.6700\n",
            "Epoch 50, CIFAR-10 Batch 4:  Cost :0.36158, Accuracy on Training 0.9500 -Validation Accuracy: 0.6672\n",
            "Epoch 50, CIFAR-10 Batch 5:  Cost :0.26824, Accuracy on Training 1.0000 -Validation Accuracy: 0.6656\n"
          ],
          "name": "stdout"
        }
      ]
    },
    {
      "metadata": {
        "id": "VQIHFbA0WEUD",
        "colab_type": "text"
      },
      "cell_type": "markdown",
      "source": [
        "\n",
        "The model has been saved to disk.\n",
        "## Test Model\n",
        "Test your model against the test dataset.  This will be your final accuracy. You should have an accuracy greater than 50%. If you don't, keep tweaking the model architecture and parameters."
      ]
    },
    {
      "metadata": {
        "id": "wivhNfb3WEUD",
        "colab_type": "code",
        "colab": {
          "base_uri": "https://localhost:8080/",
          "height": 524
        },
        "outputId": "e444daa0-5f1b-4d85-c8a4-f9841f32c80a"
      },
      "cell_type": "code",
      "source": [
        "%matplotlib inline\n",
        "%config InlineBackend.figure_format = 'retina'\n",
        "\n",
        "import tensorflow as tf\n",
        "import pickle\n",
        "import random\n",
        "\n",
        "# Set batch size if not already set\n",
        "try:\n",
        "    if batch_size:\n",
        "        pass\n",
        "except NameError:\n",
        "    batch_size = 64\n",
        "\n",
        "save_model_path = './image_classification'\n",
        "n_samples = 4\n",
        "top_n_predictions = 5\n",
        "\n",
        "def test_model():\n",
        "    \"\"\"\n",
        "    Test the saved model against the test dataset\n",
        "    \"\"\"\n",
        "\n",
        "    test_features, test_labels = pickle.load(open('preprocess_testing.p', mode='rb'))\n",
        "    loaded_graph = tf.Graph()\n",
        "\n",
        "    with tf.Session(graph=loaded_graph) as sess:\n",
        "        # Load model\n",
        "        loader = tf.train.import_meta_graph(save_model_path + '.meta')\n",
        "        loader.restore(sess, save_model_path)\n",
        "\n",
        "        # Get Tensors from loaded model\n",
        "        loaded_x = loaded_graph.get_tensor_by_name('x:0')\n",
        "        loaded_y = loaded_graph.get_tensor_by_name('y:0')\n",
        "        loaded_keep_prob = loaded_graph.get_tensor_by_name('keep_prob:0')\n",
        "        loaded_logits = loaded_graph.get_tensor_by_name('logits:0')\n",
        "        loaded_acc = loaded_graph.get_tensor_by_name('accuracy:0')\n",
        "        \n",
        "        # Get accuracy in batches for memory limitations\n",
        "        test_batch_acc_total = 0\n",
        "        test_batch_count = 0\n",
        "        \n",
        "        for train_feature_batch, train_label_batch in batch_features_labels(test_features, test_labels, batch_size):\n",
        "            test_batch_acc_total += sess.run(\n",
        "                loaded_acc,\n",
        "                feed_dict={loaded_x: train_feature_batch, loaded_y: train_label_batch, loaded_keep_prob: 1.0})\n",
        "            test_batch_count += 1\n",
        "\n",
        "        print('Testing Accuracy: {}\\n'.format(test_batch_acc_total/test_batch_count))\n",
        "\n",
        "        # Print Random Samples\n",
        "        random_test_features, random_test_labels = tuple(zip(*random.sample(list(zip(test_features, test_labels)), n_samples)))\n",
        "        random_test_predictions = sess.run(\n",
        "            tf.nn.top_k(tf.nn.softmax(loaded_logits), top_n_predictions),\n",
        "            feed_dict={loaded_x: random_test_features, loaded_y: random_test_labels, loaded_keep_prob: 1.0})\n",
        "        display_image_predictions(random_test_features, random_test_labels, random_test_predictions)\n",
        "\n",
        "\n",
        "test_model()"
      ],
      "execution_count": 21,
      "outputs": [
        {
          "output_type": "stream",
          "text": [
            "WARNING:tensorflow:From /usr/local/lib/python3.6/dist-packages/tensorflow/python/training/saver.py:1266: checkpoint_exists (from tensorflow.python.training.checkpoint_management) is deprecated and will be removed in a future version.\n",
            "Instructions for updating:\n",
            "Use standard file APIs to check for files with this prefix.\n",
            "INFO:tensorflow:Restoring parameters from ./image_classification\n",
            "Testing Accuracy: 0.6619140625\n",
            "\n"
          ],
          "name": "stdout"
        },
        {
          "output_type": "stream",
          "text": [
            "Clipping input data to the valid range for imshow with RGB data ([0..1] for floats or [0..255] for integers).\n",
            "Clipping input data to the valid range for imshow with RGB data ([0..1] for floats or [0..255] for integers).\n",
            "Clipping input data to the valid range for imshow with RGB data ([0..1] for floats or [0..255] for integers).\n",
            "Clipping input data to the valid range for imshow with RGB data ([0..1] for floats or [0..255] for integers).\n"
          ],
          "name": "stderr"
        },
        {
          "output_type": "display_data",
          "data": {
            "image/png": "[encoded data removed]",
            "text/plain": [
              "<Figure size 432x288 with 8 Axes>"
            ]
          },
          "metadata": {
            "tags": [],
            "image/png": {
              "width": 354,
              "height": 319
            }
          }
        }
      ]
    },
    {
      "metadata": {
        "id": "4LyBd0H5WEUG",
        "colab_type": "code",
        "colab": {}
      },
      "cell_type": "code",
      "source": [
        ""
      ],
      "execution_count": 0,
      "outputs": []
    }
  ]
}